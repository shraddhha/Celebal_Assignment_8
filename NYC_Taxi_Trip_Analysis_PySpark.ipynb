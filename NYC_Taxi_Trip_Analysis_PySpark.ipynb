{
  "nbformat": 4,
  "nbformat_minor": 0,
  "metadata": {
    "colab": {
      "provenance": []
    },
    "kernelspec": {
      "name": "python3",
      "display_name": "Python 3"
    },
    "language_info": {
      "name": "python"
    }
  },
  "cells": [
    {
      "cell_type": "code",
      "execution_count": 2,
      "metadata": {
        "colab": {
          "base_uri": "https://localhost:8080/"
        },
        "id": "J4YOYucu18pl",
        "outputId": "7d211886-24fb-4c96-bdb3-f89569ef32ff"
      },
      "outputs": [
        {
          "output_type": "stream",
          "name": "stdout",
          "text": [
            "Reading package lists... Done\n",
            "Building dependency tree... Done\n",
            "Reading state information... Done\n",
            "openjdk-11-jdk is already the newest version (11.0.27+6~us1-0ubuntu1~22.04).\n",
            "0 upgraded, 0 newly installed, 0 to remove and 35 not upgraded.\n"
          ]
        }
      ],
      "source": [
        "!apt-get install openjdk-11-jdk -y\n",
        "!wget -q https://archive.apache.org/dist/spark/spark-3.4.1/spark-3.4.1-bin-hadoop3.tgz\n",
        "!tar xf spark-3.4.1-bin-hadoop3.tgz\n",
        "!pip install -q findspark\n",
        "\n",
        "import os\n",
        "os.environ[\"JAVA_HOME\"] = \"/usr/lib/jvm/java-11-openjdk-amd64\"\n",
        "os.environ[\"SPARK_HOME\"] = \"/content/spark-3.4.1-bin-hadoop3\"\n",
        "\n",
        "import findspark\n",
        "findspark.init()"
      ]
    },
    {
      "cell_type": "code",
      "source": [
        "from pyspark.sql import SparkSession\n",
        "spark = SparkSession.builder.master(\"local[*]\").appName(\"NYC Taxi\").getOrCreate()\n"
      ],
      "metadata": {
        "id": "PPYzhHn42rS9"
      },
      "execution_count": 3,
      "outputs": []
    },
    {
      "cell_type": "code",
      "source": [
        "from google.colab import files\n",
        "uploaded = files.upload()\n"
      ],
      "metadata": {
        "colab": {
          "base_uri": "https://localhost:8080/",
          "height": 74
        },
        "id": "h-TD07MO2198",
        "outputId": "bd91be5d-b963-46fa-ebd4-290325f26231"
      },
      "execution_count": 4,
      "outputs": [
        {
          "output_type": "display_data",
          "data": {
            "text/plain": [
              "<IPython.core.display.HTML object>"
            ],
            "text/html": [
              "\n",
              "     <input type=\"file\" id=\"files-b0bcd81f-db28-43f5-817e-49ad3c73b4ee\" name=\"files[]\" multiple disabled\n",
              "        style=\"border:none\" />\n",
              "     <output id=\"result-b0bcd81f-db28-43f5-817e-49ad3c73b4ee\">\n",
              "      Upload widget is only available when the cell has been executed in the\n",
              "      current browser session. Please rerun this cell to enable.\n",
              "      </output>\n",
              "      <script>// Copyright 2017 Google LLC\n",
              "//\n",
              "// Licensed under the Apache License, Version 2.0 (the \"License\");\n",
              "// you may not use this file except in compliance with the License.\n",
              "// You may obtain a copy of the License at\n",
              "//\n",
              "//      http://www.apache.org/licenses/LICENSE-2.0\n",
              "//\n",
              "// Unless required by applicable law or agreed to in writing, software\n",
              "// distributed under the License is distributed on an \"AS IS\" BASIS,\n",
              "// WITHOUT WARRANTIES OR CONDITIONS OF ANY KIND, either express or implied.\n",
              "// See the License for the specific language governing permissions and\n",
              "// limitations under the License.\n",
              "\n",
              "/**\n",
              " * @fileoverview Helpers for google.colab Python module.\n",
              " */\n",
              "(function(scope) {\n",
              "function span(text, styleAttributes = {}) {\n",
              "  const element = document.createElement('span');\n",
              "  element.textContent = text;\n",
              "  for (const key of Object.keys(styleAttributes)) {\n",
              "    element.style[key] = styleAttributes[key];\n",
              "  }\n",
              "  return element;\n",
              "}\n",
              "\n",
              "// Max number of bytes which will be uploaded at a time.\n",
              "const MAX_PAYLOAD_SIZE = 100 * 1024;\n",
              "\n",
              "function _uploadFiles(inputId, outputId) {\n",
              "  const steps = uploadFilesStep(inputId, outputId);\n",
              "  const outputElement = document.getElementById(outputId);\n",
              "  // Cache steps on the outputElement to make it available for the next call\n",
              "  // to uploadFilesContinue from Python.\n",
              "  outputElement.steps = steps;\n",
              "\n",
              "  return _uploadFilesContinue(outputId);\n",
              "}\n",
              "\n",
              "// This is roughly an async generator (not supported in the browser yet),\n",
              "// where there are multiple asynchronous steps and the Python side is going\n",
              "// to poll for completion of each step.\n",
              "// This uses a Promise to block the python side on completion of each step,\n",
              "// then passes the result of the previous step as the input to the next step.\n",
              "function _uploadFilesContinue(outputId) {\n",
              "  const outputElement = document.getElementById(outputId);\n",
              "  const steps = outputElement.steps;\n",
              "\n",
              "  const next = steps.next(outputElement.lastPromiseValue);\n",
              "  return Promise.resolve(next.value.promise).then((value) => {\n",
              "    // Cache the last promise value to make it available to the next\n",
              "    // step of the generator.\n",
              "    outputElement.lastPromiseValue = value;\n",
              "    return next.value.response;\n",
              "  });\n",
              "}\n",
              "\n",
              "/**\n",
              " * Generator function which is called between each async step of the upload\n",
              " * process.\n",
              " * @param {string} inputId Element ID of the input file picker element.\n",
              " * @param {string} outputId Element ID of the output display.\n",
              " * @return {!Iterable<!Object>} Iterable of next steps.\n",
              " */\n",
              "function* uploadFilesStep(inputId, outputId) {\n",
              "  const inputElement = document.getElementById(inputId);\n",
              "  inputElement.disabled = false;\n",
              "\n",
              "  const outputElement = document.getElementById(outputId);\n",
              "  outputElement.innerHTML = '';\n",
              "\n",
              "  const pickedPromise = new Promise((resolve) => {\n",
              "    inputElement.addEventListener('change', (e) => {\n",
              "      resolve(e.target.files);\n",
              "    });\n",
              "  });\n",
              "\n",
              "  const cancel = document.createElement('button');\n",
              "  inputElement.parentElement.appendChild(cancel);\n",
              "  cancel.textContent = 'Cancel upload';\n",
              "  const cancelPromise = new Promise((resolve) => {\n",
              "    cancel.onclick = () => {\n",
              "      resolve(null);\n",
              "    };\n",
              "  });\n",
              "\n",
              "  // Wait for the user to pick the files.\n",
              "  const files = yield {\n",
              "    promise: Promise.race([pickedPromise, cancelPromise]),\n",
              "    response: {\n",
              "      action: 'starting',\n",
              "    }\n",
              "  };\n",
              "\n",
              "  cancel.remove();\n",
              "\n",
              "  // Disable the input element since further picks are not allowed.\n",
              "  inputElement.disabled = true;\n",
              "\n",
              "  if (!files) {\n",
              "    return {\n",
              "      response: {\n",
              "        action: 'complete',\n",
              "      }\n",
              "    };\n",
              "  }\n",
              "\n",
              "  for (const file of files) {\n",
              "    const li = document.createElement('li');\n",
              "    li.append(span(file.name, {fontWeight: 'bold'}));\n",
              "    li.append(span(\n",
              "        `(${file.type || 'n/a'}) - ${file.size} bytes, ` +\n",
              "        `last modified: ${\n",
              "            file.lastModifiedDate ? file.lastModifiedDate.toLocaleDateString() :\n",
              "                                    'n/a'} - `));\n",
              "    const percent = span('0% done');\n",
              "    li.appendChild(percent);\n",
              "\n",
              "    outputElement.appendChild(li);\n",
              "\n",
              "    const fileDataPromise = new Promise((resolve) => {\n",
              "      const reader = new FileReader();\n",
              "      reader.onload = (e) => {\n",
              "        resolve(e.target.result);\n",
              "      };\n",
              "      reader.readAsArrayBuffer(file);\n",
              "    });\n",
              "    // Wait for the data to be ready.\n",
              "    let fileData = yield {\n",
              "      promise: fileDataPromise,\n",
              "      response: {\n",
              "        action: 'continue',\n",
              "      }\n",
              "    };\n",
              "\n",
              "    // Use a chunked sending to avoid message size limits. See b/62115660.\n",
              "    let position = 0;\n",
              "    do {\n",
              "      const length = Math.min(fileData.byteLength - position, MAX_PAYLOAD_SIZE);\n",
              "      const chunk = new Uint8Array(fileData, position, length);\n",
              "      position += length;\n",
              "\n",
              "      const base64 = btoa(String.fromCharCode.apply(null, chunk));\n",
              "      yield {\n",
              "        response: {\n",
              "          action: 'append',\n",
              "          file: file.name,\n",
              "          data: base64,\n",
              "        },\n",
              "      };\n",
              "\n",
              "      let percentDone = fileData.byteLength === 0 ?\n",
              "          100 :\n",
              "          Math.round((position / fileData.byteLength) * 100);\n",
              "      percent.textContent = `${percentDone}% done`;\n",
              "\n",
              "    } while (position < fileData.byteLength);\n",
              "  }\n",
              "\n",
              "  // All done.\n",
              "  yield {\n",
              "    response: {\n",
              "      action: 'complete',\n",
              "    }\n",
              "  };\n",
              "}\n",
              "\n",
              "scope.google = scope.google || {};\n",
              "scope.google.colab = scope.google.colab || {};\n",
              "scope.google.colab._files = {\n",
              "  _uploadFiles,\n",
              "  _uploadFilesContinue,\n",
              "};\n",
              "})(self);\n",
              "</script> "
            ]
          },
          "metadata": {}
        },
        {
          "output_type": "stream",
          "name": "stdout",
          "text": [
            "Saving yellow_tripdata_2020-01.parquet to yellow_tripdata_2020-01.parquet\n"
          ]
        }
      ]
    },
    {
      "cell_type": "code",
      "source": [
        "df = spark.read.parquet(\"yellow_tripdata_2020-01.parquet\")\n",
        "df.show(5)\n"
      ],
      "metadata": {
        "colab": {
          "base_uri": "https://localhost:8080/"
        },
        "id": "rdiPFwI-4mB2",
        "outputId": "8944763f-677b-452c-e817-331ac1ff817f"
      },
      "execution_count": 5,
      "outputs": [
        {
          "output_type": "stream",
          "name": "stdout",
          "text": [
            "+--------+--------------------+---------------------+---------------+-------------+----------+------------------+------------+------------+------------+-----------+-----+-------+----------+------------+---------------------+------------+--------------------+-----------+\n",
            "|VendorID|tpep_pickup_datetime|tpep_dropoff_datetime|passenger_count|trip_distance|RatecodeID|store_and_fwd_flag|PULocationID|DOLocationID|payment_type|fare_amount|extra|mta_tax|tip_amount|tolls_amount|improvement_surcharge|total_amount|congestion_surcharge|airport_fee|\n",
            "+--------+--------------------+---------------------+---------------+-------------+----------+------------------+------------+------------+------------+-----------+-----+-------+----------+------------+---------------------+------------+--------------------+-----------+\n",
            "|       1| 2020-01-01 00:28:15|  2020-01-01 00:33:03|            1.0|          1.2|       1.0|                 N|         238|         239|           1|        6.0|  3.0|    0.5|      1.47|         0.0|                  0.3|       11.27|                 2.5|       null|\n",
            "|       1| 2020-01-01 00:35:39|  2020-01-01 00:43:04|            1.0|          1.2|       1.0|                 N|         239|         238|           1|        7.0|  3.0|    0.5|       1.5|         0.0|                  0.3|        12.3|                 2.5|       null|\n",
            "|       1| 2020-01-01 00:47:41|  2020-01-01 00:53:52|            1.0|          0.6|       1.0|                 N|         238|         238|           1|        6.0|  3.0|    0.5|       1.0|         0.0|                  0.3|        10.8|                 2.5|       null|\n",
            "|       1| 2020-01-01 00:55:23|  2020-01-01 01:00:14|            1.0|          0.8|       1.0|                 N|         238|         151|           1|        5.5|  0.5|    0.5|      1.36|         0.0|                  0.3|        8.16|                 0.0|       null|\n",
            "|       2| 2020-01-01 00:01:58|  2020-01-01 00:04:16|            1.0|          0.0|       1.0|                 N|         193|         193|           2|        3.5|  0.5|    0.5|       0.0|         0.0|                  0.3|         4.8|                 0.0|       null|\n",
            "+--------+--------------------+---------------------+---------------+-------------+----------+------------------+------------+------------+------------+-----------+-----+-------+----------+------------+---------------------+------------+--------------------+-----------+\n",
            "only showing top 5 rows\n",
            "\n"
          ]
        }
      ]
    },
    {
      "cell_type": "code",
      "source": [
        "df.printSchema()\n"
      ],
      "metadata": {
        "colab": {
          "base_uri": "https://localhost:8080/"
        },
        "id": "Yr3A6unv5AFl",
        "outputId": "88f34876-c21d-4054-fbbd-429bfed3f983"
      },
      "execution_count": 6,
      "outputs": [
        {
          "output_type": "stream",
          "name": "stdout",
          "text": [
            "root\n",
            " |-- VendorID: long (nullable = true)\n",
            " |-- tpep_pickup_datetime: timestamp_ntz (nullable = true)\n",
            " |-- tpep_dropoff_datetime: timestamp_ntz (nullable = true)\n",
            " |-- passenger_count: double (nullable = true)\n",
            " |-- trip_distance: double (nullable = true)\n",
            " |-- RatecodeID: double (nullable = true)\n",
            " |-- store_and_fwd_flag: string (nullable = true)\n",
            " |-- PULocationID: long (nullable = true)\n",
            " |-- DOLocationID: long (nullable = true)\n",
            " |-- payment_type: long (nullable = true)\n",
            " |-- fare_amount: double (nullable = true)\n",
            " |-- extra: double (nullable = true)\n",
            " |-- mta_tax: double (nullable = true)\n",
            " |-- tip_amount: double (nullable = true)\n",
            " |-- tolls_amount: double (nullable = true)\n",
            " |-- improvement_surcharge: double (nullable = true)\n",
            " |-- total_amount: double (nullable = true)\n",
            " |-- congestion_surcharge: double (nullable = true)\n",
            " |-- airport_fee: integer (nullable = true)\n",
            "\n"
          ]
        }
      ]
    },
    {
      "cell_type": "code",
      "source": [
        "df.select(\"vendorID\", \"passenger_count\", \"trip_distance\", \"total_amount\").show(10)\n",
        "df.describe([\"trip_distance\", \"total_amount\"]).show()\n"
      ],
      "metadata": {
        "colab": {
          "base_uri": "https://localhost:8080/"
        },
        "id": "ohEDamVn5EG4",
        "outputId": "6e7ca67f-da70-4c02-fac9-e81d8501fff8"
      },
      "execution_count": 7,
      "outputs": [
        {
          "output_type": "stream",
          "name": "stdout",
          "text": [
            "+--------+---------------+-------------+------------+\n",
            "|vendorID|passenger_count|trip_distance|total_amount|\n",
            "+--------+---------------+-------------+------------+\n",
            "|       1|            1.0|          1.2|       11.27|\n",
            "|       1|            1.0|          1.2|        12.3|\n",
            "|       1|            1.0|          0.6|        10.8|\n",
            "|       1|            1.0|          0.8|        8.16|\n",
            "|       2|            1.0|          0.0|         4.8|\n",
            "|       2|            1.0|         0.03|         3.8|\n",
            "|       2|            1.0|          0.0|        3.81|\n",
            "|       2|            1.0|          0.0|        2.81|\n",
            "|       2|            4.0|          0.0|         6.3|\n",
            "|       1|            2.0|          0.7|       14.15|\n",
            "+--------+---------------+-------------+------------+\n",
            "only showing top 10 rows\n",
            "\n",
            "+-------+-----------------+------------------+\n",
            "|summary|    trip_distance|      total_amount|\n",
            "+-------+-----------------+------------------+\n",
            "|  count|          6405008|           6405008|\n",
            "|   mean| 2.92964393330939| 18.66314879615497|\n",
            "| stddev|83.15910597325033|14.757364069214882|\n",
            "|    min|           -30.62|           -1242.3|\n",
            "|    max|        210240.07|            4268.3|\n",
            "+-------+-----------------+------------------+\n",
            "\n"
          ]
        }
      ]
    },
    {
      "cell_type": "code",
      "source": [
        "from pyspark.sql.functions import to_timestamp\n",
        "\n",
        "df = df.withColumn(\"tpep_pickup_datetime\", to_timestamp(\"tpep_pickup_datetime\")) \\\n",
        "       .withColumn(\"tpep_dropoff_datetime\", to_timestamp(\"tpep_dropoff_datetime\"))\n"
      ],
      "metadata": {
        "id": "wQ1VjQgB5IOl"
      },
      "execution_count": 8,
      "outputs": []
    },
    {
      "cell_type": "code",
      "source": [
        "df.filter((df[\"trip_distance\"] > 10) & (df[\"total_amount\"] > 50)).show(5)\n"
      ],
      "metadata": {
        "colab": {
          "base_uri": "https://localhost:8080/"
        },
        "id": "-mpNyoza5L1T",
        "outputId": "a82abfcc-fc21-4107-f44f-e869eb756e77"
      },
      "execution_count": 9,
      "outputs": [
        {
          "output_type": "stream",
          "name": "stdout",
          "text": [
            "+--------+--------------------+---------------------+---------------+-------------+----------+------------------+------------+------------+------------+-----------+-----+-------+----------+------------+---------------------+------------+--------------------+-----------+\n",
            "|VendorID|tpep_pickup_datetime|tpep_dropoff_datetime|passenger_count|trip_distance|RatecodeID|store_and_fwd_flag|PULocationID|DOLocationID|payment_type|fare_amount|extra|mta_tax|tip_amount|tolls_amount|improvement_surcharge|total_amount|congestion_surcharge|airport_fee|\n",
            "+--------+--------------------+---------------------+---------------+-------------+----------+------------------+------------+------------+------------+-----------+-----+-------+----------+------------+---------------------+------------+--------------------+-----------+\n",
            "|       2| 2020-01-01 00:42:15|  2020-01-01 01:16:20|            1.0|        14.52|       1.0|                 N|         185|         226|           1|       41.0|  0.5|    0.5|      8.46|         0.0|                  0.3|       52.71|                 0.0|       null|\n",
            "|       1| 2020-01-01 00:39:40|  2020-01-01 01:03:26|            2.0|         13.7|       1.0|                 N|         262|         134|           1|       38.5|  3.0|    0.5|      12.1|        6.12|                  0.3|       60.52|                 2.5|       null|\n",
            "|       2| 2020-01-01 00:56:32|  2020-01-01 01:13:53|            1.0|        11.85|       2.0|                 N|          93|         263|           1|       52.0|  0.0|    0.5|     12.28|        6.12|                  0.3|        73.7|                 2.5|       null|\n",
            "|       2| 2020-01-01 00:24:13|  2020-01-01 00:57:38|            1.0|        15.69|       1.0|                 N|         138|         153|           1|       44.0|  0.5|    0.5|     10.28|        6.12|                  0.3|        61.7|                 0.0|       null|\n",
            "|       1| 2020-01-01 00:21:13|  2020-01-01 00:50:30|            1.0|         18.2|       2.0|                 N|         132|         116|           1|       52.0|  0.0|    0.5|       0.0|        6.12|                  0.3|       58.92|                 0.0|       null|\n",
            "+--------+--------------------+---------------------+---------------+-------------+----------+------------------+------------+------------+------------+-----------+-----+-------+----------+------------+---------------------+------------+--------------------+-----------+\n",
            "only showing top 5 rows\n",
            "\n"
          ]
        }
      ]
    },
    {
      "cell_type": "code",
      "source": [
        "df.groupBy(\"payment_type\").avg(\"total_amount\").show()\n"
      ],
      "metadata": {
        "colab": {
          "base_uri": "https://localhost:8080/"
        },
        "id": "-4Ab16J45OfG",
        "outputId": "c7094f73-243a-4140-b7be-a5ec8a986ca5"
      },
      "execution_count": 10,
      "outputs": [
        {
          "output_type": "stream",
          "name": "stdout",
          "text": [
            "+------------+------------------+\n",
            "|payment_type| avg(total_amount)|\n",
            "+------------+------------------+\n",
            "|           0| 37.21709142586299|\n",
            "|           5|               0.0|\n",
            "|           1|19.602178445639286|\n",
            "|           3| 9.933256637164838|\n",
            "|           2| 15.51622246778336|\n",
            "|           4|0.8906255189593136|\n",
            "+------------+------------------+\n",
            "\n"
          ]
        }
      ]
    },
    {
      "cell_type": "code",
      "source": [
        "from pyspark.sql.functions import col\n",
        "\n",
        "df = df.withColumn(\"Revenue\",\n",
        "    col(\"fare_amount\") + col(\"extra\") + col(\"mta_tax\") +\n",
        "    col(\"improvement_surcharge\") + col(\"tip_amount\") +\n",
        "    col(\"tolls_amount\") + col(\"total_amount\")\n",
        ")\n",
        "df.select(\"Revenue\").show(5)\n"
      ],
      "metadata": {
        "colab": {
          "base_uri": "https://localhost:8080/"
        },
        "id": "hkOrlsy75ybu",
        "outputId": "46067deb-fa40-4903-dc11-251d94ccb9f4"
      },
      "execution_count": 11,
      "outputs": [
        {
          "output_type": "stream",
          "name": "stdout",
          "text": [
            "+-------+\n",
            "|Revenue|\n",
            "+-------+\n",
            "|  22.54|\n",
            "|   24.6|\n",
            "|   21.6|\n",
            "|  16.32|\n",
            "|    9.6|\n",
            "+-------+\n",
            "only showing top 5 rows\n",
            "\n"
          ]
        }
      ]
    },
    {
      "cell_type": "code",
      "source": [
        "df.groupBy(\"PULocationID\") \\\n",
        "  .sum(\"passenger_count\") \\\n",
        "  .withColumnRenamed(\"sum(passenger_count)\", \"total_passengers\") \\\n",
        "  .orderBy(\"total_passengers\", ascending=False) \\\n",
        "  .show()\n"
      ],
      "metadata": {
        "colab": {
          "base_uri": "https://localhost:8080/"
        },
        "id": "hq3OuXmM53xr",
        "outputId": "d12fb029-04e1-4785-821d-c5c91b8efd97"
      },
      "execution_count": 12,
      "outputs": [
        {
          "output_type": "stream",
          "name": "stdout",
          "text": [
            "+------------+----------------+\n",
            "|PULocationID|total_passengers|\n",
            "+------------+----------------+\n",
            "|         237|        433243.0|\n",
            "|         161|        425986.0|\n",
            "|         236|        403347.0|\n",
            "|         230|        360096.0|\n",
            "|         162|        351011.0|\n",
            "|         186|        338952.0|\n",
            "|         132|        326402.0|\n",
            "|          48|        297148.0|\n",
            "|         142|        294502.0|\n",
            "|         170|        289593.0|\n",
            "|         234|        284965.0|\n",
            "|         163|        267047.0|\n",
            "|         239|        263583.0|\n",
            "|          79|        244515.0|\n",
            "|         141|        237341.0|\n",
            "|          68|        227635.0|\n",
            "|         164|        218138.0|\n",
            "|         107|        215684.0|\n",
            "|         238|        199367.0|\n",
            "|         138|        197352.0|\n",
            "+------------+----------------+\n",
            "only showing top 20 rows\n",
            "\n"
          ]
        }
      ]
    },
    {
      "cell_type": "code",
      "source": [
        "df.groupBy(\"VendorID\") \\\n",
        "  .agg({\"total_amount\": \"avg\"}) \\\n",
        "  .withColumnRenamed(\"avg(total_amount)\", \"average_earning\") \\\n",
        "  .show()\n"
      ],
      "metadata": {
        "colab": {
          "base_uri": "https://localhost:8080/"
        },
        "id": "N1drYnpr5-wq",
        "outputId": "5f78fb2b-9bc7-47c2-9236-9dc0feab0977"
      },
      "execution_count": 13,
      "outputs": [
        {
          "output_type": "stream",
          "name": "stdout",
          "text": [
            "+--------+-----------------+\n",
            "|VendorID|  average_earning|\n",
            "+--------+-----------------+\n",
            "|       5|           63.754|\n",
            "|       1|18.11342940530567|\n",
            "|       2|18.93019697824438|\n",
            "+--------+-----------------+\n",
            "\n"
          ]
        }
      ]
    },
    {
      "cell_type": "code",
      "source": [
        "from pyspark.sql.functions import window\n",
        "\n",
        "df.groupBy(\n",
        "    window(\"tpep_pickup_datetime\", \"1 day\"),  # Change window as needed\n",
        "    \"payment_type\"\n",
        ").count().orderBy(\"window\").show(truncate=False)\n"
      ],
      "metadata": {
        "colab": {
          "base_uri": "https://localhost:8080/"
        },
        "id": "FtZjTN996F16",
        "outputId": "cc32869a-f542-4fb1-c0dd-1b47bbad2e5d"
      },
      "execution_count": 14,
      "outputs": [
        {
          "output_type": "stream",
          "name": "stdout",
          "text": [
            "+------------------------------------------+------------+------+\n",
            "|window                                    |payment_type|count |\n",
            "+------------------------------------------+------------+------+\n",
            "|{2003-01-01 00:00:00, 2003-01-02 00:00:00}|2           |1     |\n",
            "|{2008-12-31 00:00:00, 2009-01-01 00:00:00}|1           |5     |\n",
            "|{2008-12-31 00:00:00, 2009-01-01 00:00:00}|2           |5     |\n",
            "|{2009-01-01 00:00:00, 2009-01-02 00:00:00}|1           |1     |\n",
            "|{2009-01-01 00:00:00, 2009-01-02 00:00:00}|2           |18    |\n",
            "|{2019-12-18 00:00:00, 2019-12-19 00:00:00}|1           |2     |\n",
            "|{2019-12-31 00:00:00, 2020-01-01 00:00:00}|1           |84    |\n",
            "|{2019-12-31 00:00:00, 2020-01-01 00:00:00}|3           |2     |\n",
            "|{2019-12-31 00:00:00, 2020-01-01 00:00:00}|2           |43    |\n",
            "|{2020-01-01 00:00:00, 2020-01-02 00:00:00}|4           |665   |\n",
            "|{2020-01-01 00:00:00, 2020-01-02 00:00:00}|0           |859   |\n",
            "|{2020-01-01 00:00:00, 2020-01-02 00:00:00}|3           |1041  |\n",
            "|{2020-01-01 00:00:00, 2020-01-02 00:00:00}|1           |108382|\n",
            "|{2020-01-01 00:00:00, 2020-01-02 00:00:00}|2           |58490 |\n",
            "|{2020-01-02 00:00:00, 2020-01-03 00:00:00}|0           |1850  |\n",
            "|{2020-01-02 00:00:00, 2020-01-03 00:00:00}|4           |515   |\n",
            "|{2020-01-02 00:00:00, 2020-01-03 00:00:00}|2           |54554 |\n",
            "|{2020-01-02 00:00:00, 2020-01-03 00:00:00}|1           |104298|\n",
            "|{2020-01-02 00:00:00, 2020-01-03 00:00:00}|3           |924   |\n",
            "|{2020-01-03 00:00:00, 2020-01-04 00:00:00}|4           |523   |\n",
            "+------------------------------------------+------------+------+\n",
            "only showing top 20 rows\n",
            "\n"
          ]
        }
      ]
    },
    {
      "cell_type": "code",
      "source": [
        "from pyspark.sql.functions import to_date\n",
        "\n",
        "df_with_date = df.withColumn(\"date\", to_date(\"tpep_pickup_datetime\"))\n",
        "\n",
        "df_with_date.filter(df_with_date[\"date\"] == \"2020-01-15\") \\\n",
        "    .groupBy(\"VendorID\") \\\n",
        "    .agg({\"total_amount\": \"sum\", \"passenger_count\": \"sum\", \"trip_distance\": \"sum\"}) \\\n",
        "    .orderBy(\"sum(total_amount)\", ascending=False) \\\n",
        "    .show(2)\n"
      ],
      "metadata": {
        "colab": {
          "base_uri": "https://localhost:8080/"
        },
        "id": "7NWe9IEH6I5d",
        "outputId": "cd39f8ae-6aee-4056-9606-0cf16cb79398"
      },
      "execution_count": 15,
      "outputs": [
        {
          "output_type": "stream",
          "name": "stdout",
          "text": [
            "+--------+------------------+--------------------+------------------+\n",
            "|VendorID| sum(total_amount)|sum(passenger_count)|sum(trip_distance)|\n",
            "+--------+------------------+--------------------+------------------+\n",
            "|       2| 2781421.719999112|            233339.0|426187.19000000175|\n",
            "|       1|1319816.5300006857|             82508.0|190960.49999999945|\n",
            "+--------+------------------+--------------------+------------------+\n",
            "\n"
          ]
        }
      ]
    },
    {
      "cell_type": "code",
      "source": [
        "df.groupBy(\"PULocationID\", \"DOLocationID\") \\\n",
        "  .sum(\"passenger_count\") \\\n",
        "  .withColumnRenamed(\"sum(passenger_count)\", \"total_passengers\") \\\n",
        "  .orderBy(\"total_passengers\", ascending=False) \\\n",
        "  .show(5)\n"
      ],
      "metadata": {
        "colab": {
          "base_uri": "https://localhost:8080/"
        },
        "id": "TzpytwUd6MMK",
        "outputId": "d3c28a98-a18b-446a-9336-2004622b8259"
      },
      "execution_count": 16,
      "outputs": [
        {
          "output_type": "stream",
          "name": "stdout",
          "text": [
            "+------------+------------+----------------+\n",
            "|PULocationID|DOLocationID|total_passengers|\n",
            "+------------+------------+----------------+\n",
            "|         237|         236|         67885.0|\n",
            "|         236|         236|         57662.0|\n",
            "|         236|         237|         56488.0|\n",
            "|         237|         237|         49757.0|\n",
            "|         264|         264|         44789.0|\n",
            "+------------+------------+----------------+\n",
            "only showing top 5 rows\n",
            "\n"
          ]
        }
      ]
    },
    {
      "cell_type": "code",
      "source": [
        "latest_time = df.agg({\"tpep_pickup_datetime\": \"max\"}).collect()[0][0]\n",
        "\n",
        "from pyspark.sql.functions import expr\n",
        "\n",
        "df.filter(\n",
        "    (col(\"tpep_pickup_datetime\") >= expr(f\"timestamp('{latest_time}') - interval 10 seconds\"))\n",
        ").groupBy(\"PULocationID\") \\\n",
        " .sum(\"passenger_count\") \\\n",
        " .orderBy(\"sum(passenger_count)\", ascending=False) \\\n",
        " .show()\n"
      ],
      "metadata": {
        "colab": {
          "base_uri": "https://localhost:8080/"
        },
        "id": "6bzOySVA6POs",
        "outputId": "69a7f5d5-5cf1-4d59-c107-5b3f837d42e1"
      },
      "execution_count": 17,
      "outputs": [
        {
          "output_type": "stream",
          "name": "stdout",
          "text": [
            "+------------+--------------------+\n",
            "|PULocationID|sum(passenger_count)|\n",
            "+------------+--------------------+\n",
            "|          90|                 1.0|\n",
            "+------------+--------------------+\n",
            "\n"
          ]
        }
      ]
    },
    {
      "cell_type": "code",
      "source": [
        "df.write.mode(\"overwrite\").parquet(\"yellow_tripdata_with_revenue.parquet\")\n"
      ],
      "metadata": {
        "id": "NpIc2Ac064DI"
      },
      "execution_count": 18,
      "outputs": []
    }
  ]
}